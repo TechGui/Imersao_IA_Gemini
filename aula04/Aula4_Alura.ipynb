{
  "nbformat": 4,
  "nbformat_minor": 0,
  "metadata": {
    "colab": {
      "provenance": []
    },
    "kernelspec": {
      "name": "python3",
      "display_name": "Python 3"
    },
    "language_info": {
      "name": "python"
    }
  },
  "cells": [
    {
      "cell_type": "code",
      "execution_count": 9,
      "metadata": {
        "colab": {
          "base_uri": "https://localhost:8080/",
          "height": 1000
        },
        "id": "THwl9EBeUUwi",
        "outputId": "d8560b2d-ae28-4845-9dbd-456f536d8391"
      },
      "outputs": [
        {
          "name": "stdout",
          "output_type": "stream",
          "text": [
            "models/gemini-1.0-pro\n",
            "models/gemini-1.0-pro-001\n",
            "models/gemini-1.0-pro-latest\n",
            "models/gemini-1.0-pro-vision-latest\n",
            "models/gemini-1.5-pro-latest\n",
            "models/gemini-pro\n",
            "models/gemini-pro-vision\n",
            "Esperando prompt: O que é o Gemini? Me explique\n",
            "Resposta: **O que é o Gemini?**\n",
            "\n",
            "Gemini é um protocolo de rede e um software de código aberto para publicar e recuperar documentos na internet. Ele foi projetado para ser:\n",
            "\n",
            "* **Descentralizado:** Não há uma autoridade central controlando o Gemini.\n",
            "* **Seguro:** Usa criptografia para proteger as comunicações.\n",
            "* **Eficiente:** Os documentos são pequenos e rápidos de carregar.\n",
            "* **Simples:** A sintaxe do Gemini é fácil de entender e usar.\n",
            "\n",
            "**Como funciona o Gemini?**\n",
            "\n",
            "Gemini funciona em um sistema cliente-servidor. Os clientes são programas que se conectam a servidores Gemini para recuperar documentos. Os servidores são programas que armazenam e servem documentos Gemini.\n",
            "\n",
            "Os documentos Gemini são escritos em um formato de texto simples chamado Gemini Text Markup Language (GML). O GML é semelhante ao HTML, mas é mais simples e eficiente.\n",
            "\n",
            "**Usando o Gemini**\n",
            "\n",
            "Você pode usar o Gemini instalando um cliente Gemini em seu computador ou dispositivo móvel. Existem vários clientes Gemini disponíveis, incluindo:\n",
            "\n",
            "* **Gemini** (para desktop)\n",
            "* **Amfora** (para desktop e dispositivos móveis)\n",
            "* **Quicksilver** (para dispositivos móveis)\n",
            "\n",
            "Depois de instalar um cliente Gemini, você pode se conectar a um servidor Gemini e começar a navegar em documentos Gemini. Os documentos Gemini geralmente têm extensões de arquivo \".gmi\" ou \".gemini\".\n",
            "\n",
            "**Vantagens do Gemini**\n",
            "\n",
            "O Gemini oferece várias vantagens em relação a outros protocolos da web:\n",
            "\n",
            "* **Privacidade:** O Gemini não rastreia os usuários ou coleta seus dados.\n",
            "* **Segurança:** O Gemini usa criptografia para proteger as comunicações, tornando-o resistente a ataques de hackers.\n",
            "* **Eficiência:** Os documentos Gemini são pequenos e rápidos de carregar, mesmo em conexões lentas.\n",
            "* **Acessibilidade:** O Gemini é projetado para ser acessível a usuários com deficiências visuais e cognitivas.\n",
            "\n",
            "**Desvantagens do Gemini**\n",
            "\n",
            "O Gemini também tem algumas desvantagens:\n",
            "\n",
            "* **Limitado:** O Gemini ainda é um protocolo relativamente novo e não é tão amplamente suportado quanto outros protocolos da web.\n",
            "* **Conteúdo limitado:** Há menos conteúdo disponível no Gemini do que em outros protocolos da web.\n",
            "* **Interface simples:** A interface do Gemini é simples e pode não ser adequada para todos os usuários.\n",
            "\n",
            "No geral, o Gemini é um protocolo de rede promissor que oferece uma alternativa segura, eficiente e privada à web tradicional. \n",
            "\n",
            "\n",
            "Esperando prompt: fim\n"
          ]
        },
        {
          "output_type": "display_data",
          "data": {
            "text/plain": [
              "<IPython.core.display.Markdown object>"
            ],
            "text/markdown": "> **user**: O que é o Gemini? Me explique"
          },
          "metadata": {}
        },
        {
          "output_type": "stream",
          "name": "stdout",
          "text": [
            "-------------------------------------------\n"
          ]
        },
        {
          "output_type": "display_data",
          "data": {
            "text/plain": [
              "<IPython.core.display.Markdown object>"
            ],
            "text/markdown": "> **model**: **O que é o Gemini?**\n> \n> Gemini é um protocolo de rede e um software de código aberto para publicar e recuperar documentos na internet. Ele foi projetado para ser:\n> \n> * **Descentralizado:** Não há uma autoridade central controlando o Gemini.\n> * **Seguro:** Usa criptografia para proteger as comunicações.\n> * **Eficiente:** Os documentos são pequenos e rápidos de carregar.\n> * **Simples:** A sintaxe do Gemini é fácil de entender e usar.\n> \n> **Como funciona o Gemini?**\n> \n> Gemini funciona em um sistema cliente-servidor. Os clientes são programas que se conectam a servidores Gemini para recuperar documentos. Os servidores são programas que armazenam e servem documentos Gemini.\n> \n> Os documentos Gemini são escritos em um formato de texto simples chamado Gemini Text Markup Language (GML). O GML é semelhante ao HTML, mas é mais simples e eficiente.\n> \n> **Usando o Gemini**\n> \n> Você pode usar o Gemini instalando um cliente Gemini em seu computador ou dispositivo móvel. Existem vários clientes Gemini disponíveis, incluindo:\n> \n> * **Gemini** (para desktop)\n> * **Amfora** (para desktop e dispositivos móveis)\n> * **Quicksilver** (para dispositivos móveis)\n> \n> Depois de instalar um cliente Gemini, você pode se conectar a um servidor Gemini e começar a navegar em documentos Gemini. Os documentos Gemini geralmente têm extensões de arquivo \".gmi\" ou \".gemini\".\n> \n> **Vantagens do Gemini**\n> \n> O Gemini oferece várias vantagens em relação a outros protocolos da web:\n> \n> * **Privacidade:** O Gemini não rastreia os usuários ou coleta seus dados.\n> * **Segurança:** O Gemini usa criptografia para proteger as comunicações, tornando-o resistente a ataques de hackers.\n> * **Eficiência:** Os documentos Gemini são pequenos e rápidos de carregar, mesmo em conexões lentas.\n> * **Acessibilidade:** O Gemini é projetado para ser acessível a usuários com deficiências visuais e cognitivas.\n> \n> **Desvantagens do Gemini**\n> \n> O Gemini também tem algumas desvantagens:\n> \n> * **Limitado:** O Gemini ainda é um protocolo relativamente novo e não é tão amplamente suportado quanto outros protocolos da web.\n> * **Conteúdo limitado:** Há menos conteúdo disponível no Gemini do que em outros protocolos da web.\n> * **Interface simples:** A interface do Gemini é simples e pode não ser adequada para todos os usuários.\n> \n> No geral, o Gemini é um protocolo de rede promissor que oferece uma alternativa segura, eficiente e privada à web tradicional."
          },
          "metadata": {}
        },
        {
          "output_type": "stream",
          "name": "stdout",
          "text": [
            "-------------------------------------------\n"
          ]
        }
      ],
      "source": [
        "#Instalando o SDK do Google\n",
        "!pip install -q -U google-generativeai\n",
        "\n",
        "#Configurações iniciais\n",
        "import google.generativeai as genai\n",
        "\n",
        "# Configurando API KEY\n",
        "from google.colab import userdata\n",
        "\n",
        "GOOGLE_API_KEY=(userdata.get(\"SECRET_KEY\"))\n",
        "genai.configure(api_key=GOOGLE_API_KEY)\n",
        "\n",
        "#Listando os modelos disponíveis\n",
        "\n",
        "for m in genai.list_models():\n",
        "  if 'generateContent' in m.supported_generation_methods:\n",
        "    print(m.name)\n",
        "\n",
        "# Configurando váriaveis para gerar o conteúdo\n",
        "\n",
        "generation_config = {\n",
        "  \"candidate_count\": 1,\n",
        "  \"temperature\": 0.5,\n",
        "}\n",
        "\n",
        "safety_settings={\n",
        "    'HATE': 'BLOCK_NONE',\n",
        "    'HARASSMENT': 'BLOCK_NONE',\n",
        "    'SEXUAL' : 'BLOCK_NONE',\n",
        "    'DANGEROUS' : 'BLOCK_NONE'\n",
        "    }\n",
        "\n",
        "# Selecionando o modelo do Google AI que será utilizado\n",
        "\n",
        "model = genai.GenerativeModel(model_name='gemini-1.0-pro',\n",
        "                                  generation_config=generation_config,\n",
        "                                  safety_settings=safety_settings,)\n",
        "\n",
        "# Definido a variável que será utilizada como chat\n",
        "\n",
        "chat = model.start_chat(history=[])\n",
        "\n",
        "prompt = input('Esperando prompt: ')\n",
        "\n",
        "# Definindo comando para parar a execução\n",
        "\n",
        "while prompt != \"fim\":\n",
        "  response = chat.send_message(prompt)\n",
        "  print(\"Resposta:\", response.text, '\\n\\n')\n",
        "  prompt = input('Esperando prompt: ')\n",
        "\n",
        "# Impressão na tela\n",
        "\n",
        "chat\n",
        "\n",
        "chat.history\n",
        "\n",
        "#Melhorando a visualização\n",
        "#Código disponível em https://ai.google.dev/tutorials/python_quickstart#import_packages\n",
        "\n",
        "import textwrap\n",
        "from IPython.display import display\n",
        "from IPython.display import Markdown\n",
        "\n",
        "def to_markdown(text):\n",
        "  text = text.replace('•', '  *')\n",
        "  return Markdown(textwrap.indent(text, '> ', predicate=lambda _: True))\n",
        "\n",
        "#Imprimindo o histórico\n",
        "for message in chat.history:\n",
        "  display(to_markdown(f'**{message.role}**: {message.parts[0].text}'))\n",
        "  print('-------------------------------------------')"
      ]
    }
  ]
}